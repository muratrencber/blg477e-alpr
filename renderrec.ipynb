{
 "cells": [
  {
   "cell_type": "code",
   "execution_count": 12,
   "metadata": {},
   "outputs": [],
   "source": [
    "!rm -rf ./output\n",
    "!mkdir ./output"
   ]
  },
  {
   "cell_type": "code",
   "execution_count": 13,
   "metadata": {},
   "outputs": [
    {
     "name": "stdout",
     "output_type": "stream",
     "text": [
      "[(0, <recognizer.lp_recognizer_frame_data.LPRecognizerFrameData object at 0x7bbd19d90640>), (1, <recognizer.lp_recognizer_frame_data.LPRecognizerFrameData object at 0x7bbd19da0ac0>), (2, <recognizer.lp_recognizer_frame_data.LPRecognizerFrameData object at 0x7bbd19da04f0>), (3, <recognizer.lp_recognizer_frame_data.LPRecognizerFrameData object at 0x7bbd13e3c340>), (4, <recognizer.lp_recognizer_frame_data.LPRecognizerFrameData object at 0x7bbd13e3c430>), (5, <recognizer.lp_recognizer_frame_data.LPRecognizerFrameData object at 0x7bbd19dbf5b0>), (6, <recognizer.lp_recognizer_frame_data.LPRecognizerFrameData object at 0x7bbd19dbf040>), (7, <recognizer.lp_recognizer_frame_data.LPRecognizerFrameData object at 0x7bbd19dbd9c0>), (8, <recognizer.lp_recognizer_frame_data.LPRecognizerFrameData object at 0x7bbd13d97a60>), (9, <recognizer.lp_recognizer_frame_data.LPRecognizerFrameData object at 0x7bbd19df7070>), (10, <recognizer.lp_recognizer_frame_data.LPRecognizerFrameData object at 0x7bbd19df72b0>), (11, <recognizer.lp_recognizer_frame_data.LPRecognizerFrameData object at 0x7bbd19df6ef0>), (12, <recognizer.lp_recognizer_frame_data.LPRecognizerFrameData object at 0x7bbd19df7520>), (13, <recognizer.lp_recognizer_frame_data.LPRecognizerFrameData object at 0x7bbd19df7be0>), (14, <recognizer.lp_recognizer_frame_data.LPRecognizerFrameData object at 0x7bbd19dfc580>), (15, <recognizer.lp_recognizer_frame_data.LPRecognizerFrameData object at 0x7bbd19dfcd00>), (16, <recognizer.lp_recognizer_frame_data.LPRecognizerFrameData object at 0x7bbd19dfd3c0>), (17, <recognizer.lp_recognizer_frame_data.LPRecognizerFrameData object at 0x7bbd19dfdb40>), (18, <recognizer.lp_recognizer_frame_data.LPRecognizerFrameData object at 0x7bbd19dfe380>), (19, <recognizer.lp_recognizer_frame_data.LPRecognizerFrameData object at 0x7bbd19dfe5c0>), (20, <recognizer.lp_recognizer_frame_data.LPRecognizerFrameData object at 0x7bbd19dfed70>), (21, <recognizer.lp_recognizer_frame_data.LPRecognizerFrameData object at 0x7bbd19dfeec0>), (22, <recognizer.lp_recognizer_frame_data.LPRecognizerFrameData object at 0x7bbd19dff550>), (23, <recognizer.lp_recognizer_frame_data.LPRecognizerFrameData object at 0x7bbd19e0c6a0>), (24, <recognizer.lp_recognizer_frame_data.LPRecognizerFrameData object at 0x7bbd19e0cdc0>), (25, <recognizer.lp_recognizer_frame_data.LPRecognizerFrameData object at 0x7bbd19e6d060>), (26, <recognizer.lp_recognizer_frame_data.LPRecognizerFrameData object at 0x7bbd19e6dc00>), (27, <recognizer.lp_recognizer_frame_data.LPRecognizerFrameData object at 0x7bbd19e6e2c0>), (28, <recognizer.lp_recognizer_frame_data.LPRecognizerFrameData object at 0x7bbd19e6e980>), (29, <recognizer.lp_recognizer_frame_data.LPRecognizerFrameData object at 0x7bbd19e6f040>), (30, <recognizer.lp_recognizer_frame_data.LPRecognizerFrameData object at 0x7bbd19e6f700>), (31, <recognizer.lp_recognizer_frame_data.LPRecognizerFrameData object at 0x7bbd19e6fcd0>), (32, <recognizer.lp_recognizer_frame_data.LPRecognizerFrameData object at 0x7bbd19c989a0>), (33, <recognizer.lp_recognizer_frame_data.LPRecognizerFrameData object at 0x7bbd19c98af0>), (34, <recognizer.lp_recognizer_frame_data.LPRecognizerFrameData object at 0x7bbd19c99120>), (35, <recognizer.lp_recognizer_frame_data.LPRecognizerFrameData object at 0x7bbd19d48550>), (36, <recognizer.lp_recognizer_frame_data.LPRecognizerFrameData object at 0x7bbd19c19570>), (37, <recognizer.lp_recognizer_frame_data.LPRecognizerFrameData object at 0x7bbd19c19930>), (38, <recognizer.lp_recognizer_frame_data.LPRecognizerFrameData object at 0x7bbd19c1a200>), (39, <recognizer.lp_recognizer_frame_data.LPRecognizerFrameData object at 0x7bbd19c1aa40>), (40, <recognizer.lp_recognizer_frame_data.LPRecognizerFrameData object at 0x7bbd19c1b340>), (41, <recognizer.lp_recognizer_frame_data.LPRecognizerFrameData object at 0x7bbd19c1bb80>), (42, <recognizer.lp_recognizer_frame_data.LPRecognizerFrameData object at 0x7bbd19b81150>), (43, <recognizer.lp_recognizer_frame_data.LPRecognizerFrameData object at 0x7bbd19b80250>), (44, <recognizer.lp_recognizer_frame_data.LPRecognizerFrameData object at 0x7bbd19b804f0>), (45, <recognizer.lp_recognizer_frame_data.LPRecognizerFrameData object at 0x7bbd19b6d2a0>), (46, <recognizer.lp_recognizer_frame_data.LPRecognizerFrameData object at 0x7bbd19b6c2b0>), (47, <recognizer.lp_recognizer_frame_data.LPRecognizerFrameData object at 0x7bbd19b6c8b0>), (48, <recognizer.lp_recognizer_frame_data.LPRecognizerFrameData object at 0x7bbd19b6e020>), (49, <recognizer.lp_recognizer_frame_data.LPRecognizerFrameData object at 0x7bbd19b6e770>), (50, <recognizer.lp_recognizer_frame_data.LPRecognizerFrameData object at 0x7bbd19b6ef80>), (51, <recognizer.lp_recognizer_frame_data.LPRecognizerFrameData object at 0x7bbd19b6f5b0>), (52, <recognizer.lp_recognizer_frame_data.LPRecognizerFrameData object at 0x7bbd19b6fd00>), (53, <recognizer.lp_recognizer_frame_data.LPRecognizerFrameData object at 0x7bbd19d181c0>), (54, <recognizer.lp_recognizer_frame_data.LPRecognizerFrameData object at 0x7bbd1a11dab0>), (55, <recognizer.lp_recognizer_frame_data.LPRecognizerFrameData object at 0x7bbd1a11e320>), (56, <recognizer.lp_recognizer_frame_data.LPRecognizerFrameData object at 0x7bbd1a11ea70>), (57, <recognizer.lp_recognizer_frame_data.LPRecognizerFrameData object at 0x7bbd1a11eb30>), (58, <recognizer.lp_recognizer_frame_data.LPRecognizerFrameData object at 0x7bbd1a11ebc0>), (59, <recognizer.lp_recognizer_frame_data.LPRecognizerFrameData object at 0x7bbd1a11f340>), (60, <recognizer.lp_recognizer_frame_data.LPRecognizerFrameData object at 0x7bbd19b1c190>), (61, <recognizer.lp_recognizer_frame_data.LPRecognizerFrameData object at 0x7bbd19b1c910>), (62, <recognizer.lp_recognizer_frame_data.LPRecognizerFrameData object at 0x7bbd19b1d090>), (63, <recognizer.lp_recognizer_frame_data.LPRecognizerFrameData object at 0x7bbd19b1d810>), (64, <recognizer.lp_recognizer_frame_data.LPRecognizerFrameData object at 0x7bbd19b1df90>), (65, <recognizer.lp_recognizer_frame_data.LPRecognizerFrameData object at 0x7bbd19b1e710>), (66, <recognizer.lp_recognizer_frame_data.LPRecognizerFrameData object at 0x7bbd19b1ee90>), (67, <recognizer.lp_recognizer_frame_data.LPRecognizerFrameData object at 0x7bbd19b1f610>), (68, <recognizer.lp_recognizer_frame_data.LPRecognizerFrameData object at 0x7bbd19b1fd90>), (69, <recognizer.lp_recognizer_frame_data.LPRecognizerFrameData object at 0x7bbd19b28610>), (70, <recognizer.lp_recognizer_frame_data.LPRecognizerFrameData object at 0x7bbd19b28e50>), (71, <recognizer.lp_recognizer_frame_data.LPRecognizerFrameData object at 0x7bbd19b29690>), (72, <recognizer.lp_recognizer_frame_data.LPRecognizerFrameData object at 0x7bbd19b29ed0>), (73, <recognizer.lp_recognizer_frame_data.LPRecognizerFrameData object at 0x7bbd19b2a710>), (74, <recognizer.lp_recognizer_frame_data.LPRecognizerFrameData object at 0x7bbd19b2af50>), (75, <recognizer.lp_recognizer_frame_data.LPRecognizerFrameData object at 0x7bbd19b2b790>), (76, <recognizer.lp_recognizer_frame_data.LPRecognizerFrameData object at 0x7bbd19b2bfd0>), (77, <recognizer.lp_recognizer_frame_data.LPRecognizerFrameData object at 0x7bbd19b78bb0>), (78, <recognizer.lp_recognizer_frame_data.LPRecognizerFrameData object at 0x7bbd19b79270>), (79, <recognizer.lp_recognizer_frame_data.LPRecognizerFrameData object at 0x7bbd19b79930>), (80, <recognizer.lp_recognizer_frame_data.LPRecognizerFrameData object at 0x7bbd19b79f90>), (81, <recognizer.lp_recognizer_frame_data.LPRecognizerFrameData object at 0x7bbd19b7a740>), (82, <recognizer.lp_recognizer_frame_data.LPRecognizerFrameData object at 0x7bbd19b7ae00>), (83, <recognizer.lp_recognizer_frame_data.LPRecognizerFrameData object at 0x7bbd19b7b3d0>), (84, <recognizer.lp_recognizer_frame_data.LPRecognizerFrameData object at 0x7bbd3b508250>), (85, <recognizer.lp_recognizer_frame_data.LPRecognizerFrameData object at 0x7bbd3b508a90>), (86, <recognizer.lp_recognizer_frame_data.LPRecognizerFrameData object at 0x7bbd3b5092d0>), (87, <recognizer.lp_recognizer_frame_data.LPRecognizerFrameData object at 0x7bbd3b509b10>), (88, <recognizer.lp_recognizer_frame_data.LPRecognizerFrameData object at 0x7bbd3b50a350>), (89, <recognizer.lp_recognizer_frame_data.LPRecognizerFrameData object at 0x7bbd3b50aad0>), (90, <recognizer.lp_recognizer_frame_data.LPRecognizerFrameData object at 0x7bbd3b50b250>), (91, <recognizer.lp_recognizer_frame_data.LPRecognizerFrameData object at 0x7bbd3b50b9d0>), (92, <recognizer.lp_recognizer_frame_data.LPRecognizerFrameData object at 0x7bbd3b518190>), (93, <recognizer.lp_recognizer_frame_data.LPRecognizerFrameData object at 0x7bbd3b518910>), (94, <recognizer.lp_recognizer_frame_data.LPRecognizerFrameData object at 0x7bbd3b519090>), (95, <recognizer.lp_recognizer_frame_data.LPRecognizerFrameData object at 0x7bbd3b519810>), (96, <recognizer.lp_recognizer_frame_data.LPRecognizerFrameData object at 0x7bbd3b519f90>), (97, <recognizer.lp_recognizer_frame_data.LPRecognizerFrameData object at 0x7bbd3b51a710>), (98, <recognizer.lp_recognizer_frame_data.LPRecognizerFrameData object at 0x7bbd3b51ae90>), (99, <recognizer.lp_recognizer_frame_data.LPRecognizerFrameData object at 0x7bbd3b51b610>)]\n"
     ]
    },
    {
     "ename": "error",
     "evalue": "OpenCV(4.9.0) :-1: error: (-5:Bad argument) in function 'putText'\n> Overload resolution failed:\n>  - Argument 'thickness' is required to be an integer\n>  - Argument 'thickness' is required to be an integer\n",
     "output_type": "error",
     "traceback": [
      "\u001b[0;31m---------------------------------------------------------------------------\u001b[0m",
      "\u001b[0;31merror\u001b[0m                                     Traceback (most recent call last)",
      "Cell \u001b[0;32mIn[13], line 26\u001b[0m\n\u001b[1;32m     24\u001b[0m         cv\u001b[38;5;241m.\u001b[39mputText(frame, key, (car_top[\u001b[38;5;241m0\u001b[39m], car_bottom[\u001b[38;5;241m1\u001b[39m]), cv\u001b[38;5;241m.\u001b[39mFONT_HERSHEY_SIMPLEX, \u001b[38;5;241m1\u001b[39m, (\u001b[38;5;241m0\u001b[39m, \u001b[38;5;241m0\u001b[39m, \u001b[38;5;241m255\u001b[39m), \u001b[38;5;241m2\u001b[39m)\n\u001b[1;32m     25\u001b[0m     \u001b[38;5;28;01mif\u001b[39;00m lpdata\u001b[38;5;241m.\u001b[39mplate \u001b[38;5;129;01mis\u001b[39;00m \u001b[38;5;129;01mnot\u001b[39;00m \u001b[38;5;28;01mNone\u001b[39;00m \u001b[38;5;129;01mand\u001b[39;00m lpdata\u001b[38;5;241m.\u001b[39mplate \u001b[38;5;241m!=\u001b[39m \u001b[38;5;124m\"\u001b[39m\u001b[38;5;124m\"\u001b[39m:\n\u001b[0;32m---> 26\u001b[0m         \u001b[43mcv\u001b[49m\u001b[38;5;241;43m.\u001b[39;49m\u001b[43mputText\u001b[49m\u001b[43m(\u001b[49m\u001b[43mframe\u001b[49m\u001b[43m,\u001b[49m\u001b[43m \u001b[49m\u001b[43mlpdata\u001b[49m\u001b[38;5;241;43m.\u001b[39;49m\u001b[43mplate\u001b[49m\u001b[43m,\u001b[49m\u001b[43m \u001b[49m\u001b[43mlptop\u001b[49m\u001b[43m,\u001b[49m\u001b[43m \u001b[49m\u001b[43mcv\u001b[49m\u001b[38;5;241;43m.\u001b[39;49m\u001b[43mFONT_HERSHEY_SIMPLEX\u001b[49m\u001b[43m,\u001b[49m\u001b[43m \u001b[49m\u001b[38;5;241;43m1\u001b[39;49m\u001b[43m,\u001b[49m\u001b[43m \u001b[49m\u001b[43m(\u001b[49m\u001b[38;5;241;43m255\u001b[39;49m\u001b[43m,\u001b[49m\u001b[43m \u001b[49m\u001b[38;5;241;43m255\u001b[39;49m\u001b[43m,\u001b[49m\u001b[43m \u001b[49m\u001b[38;5;241;43m255\u001b[39;49m\u001b[43m)\u001b[49m\u001b[43m,\u001b[49m\u001b[43m \u001b[49m\u001b[38;5;241;43m1.5\u001b[39;49m\u001b[43m)\u001b[49m\n\u001b[1;32m     27\u001b[0m cv\u001b[38;5;241m.\u001b[39mimwrite(\u001b[38;5;124mf\u001b[39m\u001b[38;5;124m\"\u001b[39m\u001b[38;5;124moutput/\u001b[39m\u001b[38;5;132;01m{\u001b[39;00mi\u001b[38;5;132;01m}\u001b[39;00m\u001b[38;5;124m.jpg\u001b[39m\u001b[38;5;124m\"\u001b[39m, frame)\n",
      "\u001b[0;31merror\u001b[0m: OpenCV(4.9.0) :-1: error: (-5:Bad argument) in function 'putText'\n> Overload resolution failed:\n>  - Argument 'thickness' is required to be an integer\n>  - Argument 'thickness' is required to be an integer\n"
     ]
    }
   ],
   "source": [
    "import cv2 as cv\n",
    "from utils import read_csv_framedata_list\n",
    "\n",
    "vid = cv.VideoCapture(\"/home/murat/Downloads/20240428_142821.mp4\")\n",
    "fdlist = read_csv_framedata_list(\"output.csv\")\n",
    "print(fdlist)\n",
    "\n",
    "for i, fd in fdlist:\n",
    "    ret,frame = vid.read()\n",
    "    if not ret:\n",
    "        break\n",
    "    height, width = frame.shape[:2]\n",
    "    for key, lpdata in fd.lps.items():\n",
    "        if lpdata.box is None:\n",
    "            continue\n",
    "        lptop, lpbottom = lpdata.box.get_points(width, height)\n",
    "        if lpdata.car_box is not None:\n",
    "            car_top, car_bottom = lpdata.car_box.get_points(width, height)\n",
    "            cv.rectangle(frame, car_top, car_bottom, (0, 0, 255), 3)\n",
    "        cv.rectangle(frame, lptop, lpbottom, (255, 0, 0), 3)\n",
    "        if key.startswith(\"uc\"):\n",
    "            cv.putText(frame, key, lpbottom, cv.FONT_HERSHEY_SIMPLEX, 1, (255, 0, 0), 1.5)\n",
    "        else:\n",
    "            cv.putText(frame, key, (car_top[0], car_bottom[1]), cv.FONT_HERSHEY_SIMPLEX, 1, (0, 0, 255), 2)\n",
    "        if lpdata.plate is not None and lpdata.plate != \"\":\n",
    "            cv.putText(frame, lpdata.plate, lptop, cv.FONT_HERSHEY_SIMPLEX, 1, (255, 255, 255), 2)\n",
    "    cv.imwrite(f\"output/{i}.jpg\", frame)"
   ]
  }
 ],
 "metadata": {
  "kernelspec": {
   "display_name": "venv",
   "language": "python",
   "name": "python3"
  },
  "language_info": {
   "codemirror_mode": {
    "name": "ipython",
    "version": 3
   },
   "file_extension": ".py",
   "mimetype": "text/x-python",
   "name": "python",
   "nbconvert_exporter": "python",
   "pygments_lexer": "ipython3",
   "version": "3.10.12"
  }
 },
 "nbformat": 4,
 "nbformat_minor": 2
}
