{
 "cells": [
  {
   "cell_type": "code",
   "execution_count": 1,
   "metadata": {},
   "outputs": [],
   "source": [
    "!rm -rf ./output\n",
    "!mkdir ./output"
   ]
  },
  {
   "cell_type": "code",
   "execution_count": 9,
   "metadata": {},
   "outputs": [
    {
     "ename": "KeyError",
     "evalue": "'0'",
     "output_type": "error",
     "traceback": [
      "\u001b[0;31m---------------------------------------------------------------------------\u001b[0m",
      "\u001b[0;31mKeyError\u001b[0m                                  Traceback (most recent call last)",
      "Cell \u001b[0;32mIn[9], line 18\u001b[0m\n\u001b[1;32m     16\u001b[0m     frame_num \u001b[38;5;241m+\u001b[39m\u001b[38;5;241m=\u001b[39m \u001b[38;5;241m1\u001b[39m\n\u001b[1;32m     17\u001b[0m     \u001b[38;5;28;01mcontinue\u001b[39;00m\n\u001b[0;32m---> 18\u001b[0m fd \u001b[38;5;241m=\u001b[39m \u001b[43mfdlist\u001b[49m\u001b[43m[\u001b[49m\u001b[38;5;28;43mstr\u001b[39;49m\u001b[43m(\u001b[49m\u001b[43mframe_num\u001b[49m\u001b[43m)\u001b[49m\u001b[43m]\u001b[49m\n\u001b[1;32m     19\u001b[0m \u001b[38;5;28;01mfor\u001b[39;00m key, lpdata \u001b[38;5;129;01min\u001b[39;00m fd\u001b[38;5;241m.\u001b[39mlps\u001b[38;5;241m.\u001b[39mitems():\n\u001b[1;32m     20\u001b[0m     \u001b[38;5;28;01mif\u001b[39;00m lpdata\u001b[38;5;241m.\u001b[39mbox \u001b[38;5;129;01mis\u001b[39;00m \u001b[38;5;28;01mNone\u001b[39;00m:\n",
      "\u001b[0;31mKeyError\u001b[0m: '0'"
     ]
    }
   ],
   "source": [
    "import cv2 as cv\n",
    "from utils import read_csv_framedata_list\n",
    "\n",
    "vid = cv.VideoCapture(\"/home/murat/Downloads/20240428_143508.mp4\")\n",
    "fdlist = read_csv_framedata_list(\"output.csv\")\n",
    "max_frame = int(max(fdlist.keys()))\n",
    "frame_nums = list(fdlist.keys())\n",
    "frame_num = 0\n",
    "while True:\n",
    "    ret,frame = vid.read()\n",
    "    if not ret:\n",
    "        break\n",
    "    height, width = frame.shape[:2]\n",
    "    if frame_num not in fdlist:\n",
    "        cv.imwrite(f\"output/{frame_num}.jpg\", frame)\n",
    "        frame_num += 1\n",
    "        continue\n",
    "    fd = fdlist[frame_num]\n",
    "    for key, lpdata in fd.lps.items():\n",
    "        if lpdata.box is None:\n",
    "            continue\n",
    "        lptop, lpbottom = lpdata.box.get_points(width, height)\n",
    "        if lpdata.car_box is not None:\n",
    "            car_top, car_bottom = lpdata.car_box.get_points(width, height)\n",
    "            cv.rectangle(frame, car_top, car_bottom, (0, 0, 255), 3)\n",
    "        cv.rectangle(frame, lptop, lpbottom, (255, 0, 0), 3)\n",
    "        if key.startswith(\"uc\"):\n",
    "            cv.putText(frame, key, lpbottom, cv.FONT_HERSHEY_SIMPLEX, 1, (255, 0, 0), 2)\n",
    "        else:\n",
    "            cv.putText(frame, key, (car_top[0], car_bottom[1]), cv.FONT_HERSHEY_SIMPLEX, 1, (0, 0, 255), 2)\n",
    "        if lpdata.plate is not None and lpdata.plate != \"\":\n",
    "            cv.putText(frame, lpdata.plate, lptop, cv.FONT_HERSHEY_SIMPLEX, 1, (255, 255, 255), 2)\n",
    "    cv.imwrite(f\"output/{frame_num}.jpg\", frame)\n",
    "    frame_num += 1\n",
    "    if frame_num > max_frame:\n",
    "        break"
   ]
  }
 ],
 "metadata": {
  "kernelspec": {
   "display_name": "venv",
   "language": "python",
   "name": "python3"
  },
  "language_info": {
   "codemirror_mode": {
    "name": "ipython",
    "version": 3
   },
   "file_extension": ".py",
   "mimetype": "text/x-python",
   "name": "python",
   "nbconvert_exporter": "python",
   "pygments_lexer": "ipython3",
   "version": "3.10.12"
  }
 },
 "nbformat": 4,
 "nbformat_minor": 2
}
