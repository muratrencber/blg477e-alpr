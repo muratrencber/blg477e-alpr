{
 "cells": [
  {
   "cell_type": "code",
   "execution_count": 1,
   "metadata": {},
   "outputs": [],
   "source": [
    "from recognizer.lp_recognizer import LPRecognizer\n",
    "from ultralytics import YOLO\n",
    "import cv2 as cv\n",
    "import easyocr\n",
    "\n",
    "ocr = easyocr.Reader(['en'])\n",
    "lpr_model = YOLO(\"alpr_v8n_100ep.pt\", verbose=False)\n",
    "vehicle_detection_model = YOLO(\"yolov8n.pt\", verbose=False)\n",
    "lp_recognizer = LPRecognizer(lpr_model, vehicle_detection_model, ocr)"
   ]
  },
  {
   "cell_type": "code",
   "execution_count": 3,
   "metadata": {},
   "outputs": [],
   "source": [
    "vid = cv.VideoCapture(\"/home/murat/Downloads/20240428_143508.mp4\")\n",
    "lp_recognizer.setup_tracking(vid.get(cv.CAP_PROP_FPS))"
   ]
  },
  {
   "cell_type": "code",
   "execution_count": null,
   "metadata": {},
   "outputs": [],
   "source": [
    "import matplotlib.pyplot as plt\n",
    "for i in range(0, 300) :\n",
    "    ret, frame = vid.read()\n",
    "    res = lp_recognizer.recognize_frame(frame)"
   ]
  },
  {
   "cell_type": "code",
   "execution_count": 5,
   "metadata": {},
   "outputs": [],
   "source": [
    "from utils import  write_csv_recognizer\n",
    "\n",
    "write_csv_recognizer(lp_recognizer, \"output.csv\")"
   ]
  }
 ],
 "metadata": {
  "kernelspec": {
   "display_name": "venv",
   "language": "python",
   "name": "python3"
  },
  "language_info": {
   "codemirror_mode": {
    "name": "ipython",
    "version": 3
   },
   "file_extension": ".py",
   "mimetype": "text/x-python",
   "name": "python",
   "nbconvert_exporter": "python",
   "pygments_lexer": "ipython3",
   "version": "3.10.12"
  }
 },
 "nbformat": 4,
 "nbformat_minor": 2
}
